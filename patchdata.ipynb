{
 "cells": [
  {
   "cell_type": "code",
   "execution_count": 1,
   "id": "7e6f8c31",
   "metadata": {},
   "outputs": [],
   "source": [
    "from patchify import patchify, unpatchify\n",
    "\n",
    "patch_h = 256\n",
    "patch_w = 256\n",
    "patch_step = 128"
   ]
  },
  {
   "cell_type": "code",
   "execution_count": 2,
   "id": "8ae6974e",
   "metadata": {},
   "outputs": [],
   "source": [
    "import cv2 as cv2\n",
    "import os\n",
    "import os.path as osp\n",
    "import numpy as np"
   ]
  },
  {
   "cell_type": "code",
   "execution_count": 3,
   "id": "3d132427",
   "metadata": {},
   "outputs": [
    {
     "name": "stdout",
     "output_type": "stream",
     "text": [
      "/home/kunzixie/Medical_Image_Analysis/pytorch-maml/path/to/data/CoNSeP/inputs /home/kunzixie/Medical_Image_Analysis/pytorch-maml/path/to/data/CoNSeP/labels\n"
     ]
    }
   ],
   "source": [
    "# MoNuSeg_dir = '/home/kunzixie/Medical_Image_Analysis/pytorch-maml/path/to/data/MoNuSeg/'\n",
    "# imgdir = osp.join(MoNuSeg_dir, 'inputs')\n",
    "# maskdir = osp.join(MoNuSeg_dir, 'labels')\n",
    "\n",
    "# TNBC_dir = '/home/kunzixie/Medical_Image_Analysis/pytorch-maml/path/to/data/TNBC/'\n",
    "# imgdir = osp.join(TNBC_dir, 'inputs')\n",
    "# maskdir = osp.join(TNBC_dir, 'labels')\n",
    "\n",
    "# CPM_dir = '/home/kunzixie/Medical_Image_Analysis/pytorch-maml/path/to/data/CPM/'\n",
    "# imgdir = osp.join(CPM_dir, 'inputs')\n",
    "# maskdir = osp.join(CPM_dir, 'labels')\n",
    "\n",
    "CoNSeP_dir = '/home/kunzixie/Medical_Image_Analysis/pytorch-maml/path/to/data/CoNSeP/'\n",
    "imgdir = osp.join(CoNSeP_dir, 'inputs')\n",
    "maskdir = osp.join(CoNSeP_dir, 'labels')\n",
    "\n",
    "imglist = sorted(os.listdir(imgdir))\n",
    "masklist = sorted(os.listdir(maskdir))\n",
    "\n",
    "print(imgdir, maskdir)"
   ]
  },
  {
   "cell_type": "code",
   "execution_count": 4,
   "id": "fabfa13f",
   "metadata": {
    "scrolled": false
   },
   "outputs": [],
   "source": [
    "for idx in range(len(imglist)):\n",
    "    image_name = osp.join(imgdir, imglist[idx])\n",
    "    mask_name = osp.join(maskdir, masklist[idx])\n",
    "#     print(mask_name)\n",
    "    image = cv2.imread(image_name)\n",
    "    mask = cv2.imread(mask_name,cv2.IMREAD_GRAYSCALE)\n",
    "    \n",
    "     \n",
    "    patches_img = patchify(image, (256,256,3), step=patch_step)\n",
    "\n",
    "    for i in range(patches_img.shape[0]):\n",
    "        for j in range(patches_img.shape[1]):\n",
    "            single_patch_img = patches_img[i, j, 0, :, :, :]\n",
    "#             print(single_patch_img.shape)\n",
    "            if not cv2.imwrite('patches/CoNSeP/images/' + (imglist[idx]).split('.')[0]+'_'+str(i)+'_'+str(j)+'.png', single_patch_img):\n",
    "                raise Exception(\"Could not write the image\")\n",
    "     \n",
    "    patches_mask = patchify(mask, (256,256), step=patch_step)\n",
    "#     print('mask patch shape:', patches_mask.shape)\n",
    "     \n",
    "    for m in range(patches_mask.shape[0]): \n",
    "        for n in range(patches_mask.shape[1]):  \n",
    "            single_patch_mask = patches_mask[m, n, :, :]   \n",
    "            if not cv2.imwrite('patches/CoNSeP/labels/' + (masklist[idx]).split('.')[0] + '_'+str(m)+'_'+str(n)+'.png', single_patch_mask):\n",
    "                raise Exception(\"Could not write the mask\")"
   ]
  },
  {
   "cell_type": "code",
   "execution_count": null,
   "id": "d10bcee9",
   "metadata": {},
   "outputs": [],
   "source": []
  },
  {
   "cell_type": "code",
   "execution_count": null,
   "id": "a2faaad9",
   "metadata": {},
   "outputs": [],
   "source": []
  }
 ],
 "metadata": {
  "kernelspec": {
   "display_name": "venv",
   "language": "python",
   "name": "venv"
  },
  "language_info": {
   "codemirror_mode": {
    "name": "ipython",
    "version": 3
   },
   "file_extension": ".py",
   "mimetype": "text/x-python",
   "name": "python",
   "nbconvert_exporter": "python",
   "pygments_lexer": "ipython3",
   "version": "3.9.5"
  }
 },
 "nbformat": 4,
 "nbformat_minor": 5
}
